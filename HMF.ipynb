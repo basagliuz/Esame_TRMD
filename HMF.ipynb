{
 "cells": [
  {
   "cell_type": "markdown",
   "id": "4b3b45aa-7ae5-47ef-87a4-c7b18ed331a0",
   "metadata": {},
   "source": [
    "# Analisi di un catalogo di ammassi di galassie"
   ]
  },
  {
   "cell_type": "markdown",
   "id": "0170e10f-1c9d-410b-ae63-d97919788a7a",
   "metadata": {},
   "source": [
    "In questo esercizio viene analizzato un catalogo di ammassi di galassie (`euclid_ammassi.csv`) con caratteristiche simili a quelli che saranno osservati dalla missione Euclid. Il catalogo fornisce la massa (in masse solari) di ogni ammasso per un totale di tre valori di redshift e il volume di universo associato a ciascuno di essi (in ${Mpc}^3/h^3$)."
   ]
  },
  {
   "cell_type": "markdown",
   "id": "e6f2a568-3f8c-4d2f-9734-125819823fea",
   "metadata": {},
   "source": [
    "## Parte uno: visualizzazione e analisi dei dati"
   ]
  },
  {
   "cell_type": "code",
   "execution_count": 14,
   "id": "c8fe5707-9ded-4778-afda-7e437902a646",
   "metadata": {},
   "outputs": [
    {
     "data": {
      "text/html": [
       "<div>\n",
       "<style scoped>\n",
       "    .dataframe tbody tr th:only-of-type {\n",
       "        vertical-align: middle;\n",
       "    }\n",
       "\n",
       "    .dataframe tbody tr th {\n",
       "        vertical-align: top;\n",
       "    }\n",
       "\n",
       "    .dataframe thead th {\n",
       "        text-align: right;\n",
       "    }\n",
       "</style>\n",
       "<table border=\"1\" class=\"dataframe\">\n",
       "  <thead>\n",
       "    <tr style=\"text-align: right;\">\n",
       "      <th></th>\n",
       "      <th>mass</th>\n",
       "      <th>z</th>\n",
       "      <th>vol</th>\n",
       "    </tr>\n",
       "  </thead>\n",
       "  <tbody>\n",
       "    <tr>\n",
       "      <th>0</th>\n",
       "      <td>1.060613e+14</td>\n",
       "      <td>0.506</td>\n",
       "      <td>1.479387e+10</td>\n",
       "    </tr>\n",
       "    <tr>\n",
       "      <th>1</th>\n",
       "      <td>1.097076e+14</td>\n",
       "      <td>0.506</td>\n",
       "      <td>1.479387e+10</td>\n",
       "    </tr>\n",
       "    <tr>\n",
       "      <th>2</th>\n",
       "      <td>1.588869e+14</td>\n",
       "      <td>0.506</td>\n",
       "      <td>1.479387e+10</td>\n",
       "    </tr>\n",
       "    <tr>\n",
       "      <th>3</th>\n",
       "      <td>1.336345e+14</td>\n",
       "      <td>0.506</td>\n",
       "      <td>1.479387e+10</td>\n",
       "    </tr>\n",
       "    <tr>\n",
       "      <th>4</th>\n",
       "      <td>3.078288e+14</td>\n",
       "      <td>0.506</td>\n",
       "      <td>1.479387e+10</td>\n",
       "    </tr>\n",
       "    <tr>\n",
       "      <th>...</th>\n",
       "      <td>...</td>\n",
       "      <td>...</td>\n",
       "      <td>...</td>\n",
       "    </tr>\n",
       "    <tr>\n",
       "      <th>362632</th>\n",
       "      <td>1.002043e+14</td>\n",
       "      <td>1.500</td>\n",
       "      <td>9.112247e+10</td>\n",
       "    </tr>\n",
       "    <tr>\n",
       "      <th>362633</th>\n",
       "      <td>1.267961e+14</td>\n",
       "      <td>1.500</td>\n",
       "      <td>9.112247e+10</td>\n",
       "    </tr>\n",
       "    <tr>\n",
       "      <th>362634</th>\n",
       "      <td>1.273208e+14</td>\n",
       "      <td>1.500</td>\n",
       "      <td>9.112247e+10</td>\n",
       "    </tr>\n",
       "    <tr>\n",
       "      <th>362635</th>\n",
       "      <td>1.093178e+14</td>\n",
       "      <td>1.500</td>\n",
       "      <td>9.112247e+10</td>\n",
       "    </tr>\n",
       "    <tr>\n",
       "      <th>362636</th>\n",
       "      <td>1.843786e+14</td>\n",
       "      <td>1.500</td>\n",
       "      <td>9.112247e+10</td>\n",
       "    </tr>\n",
       "  </tbody>\n",
       "</table>\n",
       "<p>362637 rows × 3 columns</p>\n",
       "</div>"
      ],
      "text/plain": [
       "                mass      z           vol\n",
       "0       1.060613e+14  0.506  1.479387e+10\n",
       "1       1.097076e+14  0.506  1.479387e+10\n",
       "2       1.588869e+14  0.506  1.479387e+10\n",
       "3       1.336345e+14  0.506  1.479387e+10\n",
       "4       3.078288e+14  0.506  1.479387e+10\n",
       "...              ...    ...           ...\n",
       "362632  1.002043e+14  1.500  9.112247e+10\n",
       "362633  1.267961e+14  1.500  9.112247e+10\n",
       "362634  1.273208e+14  1.500  9.112247e+10\n",
       "362635  1.093178e+14  1.500  9.112247e+10\n",
       "362636  1.843786e+14  1.500  9.112247e+10\n",
       "\n",
       "[362637 rows x 3 columns]"
      ]
     },
     "execution_count": 14,
     "metadata": {},
     "output_type": "execute_result"
    }
   ],
   "source": [
    "import pandas as pd\n",
    "euclid_ammassi = pd.read_csv('euclid_ammassi.csv', index_col = 0)\n",
    "euclid_ammassi"
   ]
  },
  {
   "cell_type": "code",
   "execution_count": 16,
   "id": "170ee06b-ee62-4d66-9efa-283a98977de3",
   "metadata": {},
   "outputs": [
    {
     "data": {
      "text/html": [
       "<div>\n",
       "<style scoped>\n",
       "    .dataframe tbody tr th:only-of-type {\n",
       "        vertical-align: middle;\n",
       "    }\n",
       "\n",
       "    .dataframe tbody tr th {\n",
       "        vertical-align: top;\n",
       "    }\n",
       "\n",
       "    .dataframe thead th {\n",
       "        text-align: right;\n",
       "    }\n",
       "</style>\n",
       "<table border=\"1\" class=\"dataframe\">\n",
       "  <thead>\n",
       "    <tr style=\"text-align: right;\">\n",
       "      <th></th>\n",
       "      <th>mass</th>\n",
       "      <th>z</th>\n",
       "      <th>vol</th>\n",
       "    </tr>\n",
       "  </thead>\n",
       "  <tbody>\n",
       "    <tr>\n",
       "      <th>168892</th>\n",
       "      <td>1.085008e+14</td>\n",
       "      <td>0.506</td>\n",
       "      <td>1.479387e+10</td>\n",
       "    </tr>\n",
       "    <tr>\n",
       "      <th>168893</th>\n",
       "      <td>2.131142e+14</td>\n",
       "      <td>0.506</td>\n",
       "      <td>1.479387e+10</td>\n",
       "    </tr>\n",
       "    <tr>\n",
       "      <th>168894</th>\n",
       "      <td>1.401876e+14</td>\n",
       "      <td>0.506</td>\n",
       "      <td>1.479387e+10</td>\n",
       "    </tr>\n",
       "    <tr>\n",
       "      <th>168895</th>\n",
       "      <td>3.313962e+14</td>\n",
       "      <td>0.506</td>\n",
       "      <td>1.479387e+10</td>\n",
       "    </tr>\n",
       "    <tr>\n",
       "      <th>168896</th>\n",
       "      <td>1.605784e+14</td>\n",
       "      <td>0.506</td>\n",
       "      <td>1.479387e+10</td>\n",
       "    </tr>\n",
       "    <tr>\n",
       "      <th>310899</th>\n",
       "      <td>1.195896e+14</td>\n",
       "      <td>1.019</td>\n",
       "      <td>4.783826e+10</td>\n",
       "    </tr>\n",
       "    <tr>\n",
       "      <th>310900</th>\n",
       "      <td>1.005500e+14</td>\n",
       "      <td>1.019</td>\n",
       "      <td>4.783826e+10</td>\n",
       "    </tr>\n",
       "    <tr>\n",
       "      <th>310901</th>\n",
       "      <td>2.754929e+14</td>\n",
       "      <td>1.019</td>\n",
       "      <td>4.783826e+10</td>\n",
       "    </tr>\n",
       "    <tr>\n",
       "      <th>310902</th>\n",
       "      <td>1.367388e+14</td>\n",
       "      <td>1.019</td>\n",
       "      <td>4.783826e+10</td>\n",
       "    </tr>\n",
       "    <tr>\n",
       "      <th>310903</th>\n",
       "      <td>1.096074e+14</td>\n",
       "      <td>1.019</td>\n",
       "      <td>4.783826e+10</td>\n",
       "    </tr>\n",
       "    <tr>\n",
       "      <th>362632</th>\n",
       "      <td>1.002043e+14</td>\n",
       "      <td>1.500</td>\n",
       "      <td>9.112247e+10</td>\n",
       "    </tr>\n",
       "    <tr>\n",
       "      <th>362633</th>\n",
       "      <td>1.267961e+14</td>\n",
       "      <td>1.500</td>\n",
       "      <td>9.112247e+10</td>\n",
       "    </tr>\n",
       "    <tr>\n",
       "      <th>362634</th>\n",
       "      <td>1.273208e+14</td>\n",
       "      <td>1.500</td>\n",
       "      <td>9.112247e+10</td>\n",
       "    </tr>\n",
       "    <tr>\n",
       "      <th>362635</th>\n",
       "      <td>1.093178e+14</td>\n",
       "      <td>1.500</td>\n",
       "      <td>9.112247e+10</td>\n",
       "    </tr>\n",
       "    <tr>\n",
       "      <th>362636</th>\n",
       "      <td>1.843786e+14</td>\n",
       "      <td>1.500</td>\n",
       "      <td>9.112247e+10</td>\n",
       "    </tr>\n",
       "  </tbody>\n",
       "</table>\n",
       "</div>"
      ],
      "text/plain": [
       "                mass      z           vol\n",
       "168892  1.085008e+14  0.506  1.479387e+10\n",
       "168893  2.131142e+14  0.506  1.479387e+10\n",
       "168894  1.401876e+14  0.506  1.479387e+10\n",
       "168895  3.313962e+14  0.506  1.479387e+10\n",
       "168896  1.605784e+14  0.506  1.479387e+10\n",
       "310899  1.195896e+14  1.019  4.783826e+10\n",
       "310900  1.005500e+14  1.019  4.783826e+10\n",
       "310901  2.754929e+14  1.019  4.783826e+10\n",
       "310902  1.367388e+14  1.019  4.783826e+10\n",
       "310903  1.096074e+14  1.019  4.783826e+10\n",
       "362632  1.002043e+14  1.500  9.112247e+10\n",
       "362633  1.267961e+14  1.500  9.112247e+10\n",
       "362634  1.273208e+14  1.500  9.112247e+10\n",
       "362635  1.093178e+14  1.500  9.112247e+10\n",
       "362636  1.843786e+14  1.500  9.112247e+10"
      ]
     },
     "execution_count": 16,
     "metadata": {},
     "output_type": "execute_result"
    }
   ],
   "source": [
    "euclid_ammassi.groupby('z').head()\n",
    "euclid_ammassi.groupby('z').tail()"
   ]
  },
  {
   "cell_type": "code",
   "execution_count": 18,
   "id": "658e4b56-f521-44d1-bfca-3e36516986c8",
   "metadata": {},
   "outputs": [
    {
     "data": {
      "text/html": [
       "<div>\n",
       "<style scoped>\n",
       "    .dataframe tbody tr th:only-of-type {\n",
       "        vertical-align: middle;\n",
       "    }\n",
       "\n",
       "    .dataframe tbody tr th {\n",
       "        vertical-align: top;\n",
       "    }\n",
       "\n",
       "    .dataframe thead th {\n",
       "        text-align: right;\n",
       "    }\n",
       "</style>\n",
       "<table border=\"1\" class=\"dataframe\">\n",
       "  <thead>\n",
       "    <tr style=\"text-align: right;\">\n",
       "      <th></th>\n",
       "      <th>count</th>\n",
       "      <th>mean</th>\n",
       "      <th>std</th>\n",
       "      <th>min</th>\n",
       "      <th>25%</th>\n",
       "      <th>50%</th>\n",
       "      <th>75%</th>\n",
       "      <th>max</th>\n",
       "    </tr>\n",
       "    <tr>\n",
       "      <th>z</th>\n",
       "      <th></th>\n",
       "      <th></th>\n",
       "      <th></th>\n",
       "      <th></th>\n",
       "      <th></th>\n",
       "      <th></th>\n",
       "      <th></th>\n",
       "      <th></th>\n",
       "    </tr>\n",
       "  </thead>\n",
       "  <tbody>\n",
       "    <tr>\n",
       "      <th>0.506</th>\n",
       "      <td>168897.0</td>\n",
       "      <td>1.754502e+14</td>\n",
       "      <td>1.022009e+14</td>\n",
       "      <td>1.000004e+14</td>\n",
       "      <td>1.162374e+14</td>\n",
       "      <td>1.417421e+14</td>\n",
       "      <td>1.942476e+14</td>\n",
       "      <td>2.231156e+15</td>\n",
       "    </tr>\n",
       "    <tr>\n",
       "      <th>1.019</th>\n",
       "      <td>142007.0</td>\n",
       "      <td>1.520161e+14</td>\n",
       "      <td>6.478489e+13</td>\n",
       "      <td>1.000036e+14</td>\n",
       "      <td>1.120814e+14</td>\n",
       "      <td>1.307558e+14</td>\n",
       "      <td>1.668826e+14</td>\n",
       "      <td>1.536768e+15</td>\n",
       "    </tr>\n",
       "    <tr>\n",
       "      <th>1.500</th>\n",
       "      <td>51733.0</td>\n",
       "      <td>1.370772e+14</td>\n",
       "      <td>4.304113e+13</td>\n",
       "      <td>1.000017e+14</td>\n",
       "      <td>1.093389e+14</td>\n",
       "      <td>1.230673e+14</td>\n",
       "      <td>1.487753e+14</td>\n",
       "      <td>9.605430e+14</td>\n",
       "    </tr>\n",
       "  </tbody>\n",
       "</table>\n",
       "</div>"
      ],
      "text/plain": [
       "          count          mean           std           min           25%  \\\n",
       "z                                                                         \n",
       "0.506  168897.0  1.754502e+14  1.022009e+14  1.000004e+14  1.162374e+14   \n",
       "1.019  142007.0  1.520161e+14  6.478489e+13  1.000036e+14  1.120814e+14   \n",
       "1.500   51733.0  1.370772e+14  4.304113e+13  1.000017e+14  1.093389e+14   \n",
       "\n",
       "                50%           75%           max  \n",
       "z                                                \n",
       "0.506  1.417421e+14  1.942476e+14  2.231156e+15  \n",
       "1.019  1.307558e+14  1.668826e+14  1.536768e+15  \n",
       "1.500  1.230673e+14  1.487753e+14  9.605430e+14  "
      ]
     },
     "execution_count": 18,
     "metadata": {},
     "output_type": "execute_result"
    }
   ],
   "source": [
    "euclid_ammassi.groupby('z')['mass'].describe()"
   ]
  },
  {
   "cell_type": "code",
   "execution_count": 20,
   "id": "9c1507d1-f95a-4d89-a5bd-82400a5ef307",
   "metadata": {},
   "outputs": [
    {
     "data": {
      "text/html": [
       "<div>\n",
       "<style scoped>\n",
       "    .dataframe tbody tr th:only-of-type {\n",
       "        vertical-align: middle;\n",
       "    }\n",
       "\n",
       "    .dataframe tbody tr th {\n",
       "        vertical-align: top;\n",
       "    }\n",
       "\n",
       "    .dataframe thead th {\n",
       "        text-align: right;\n",
       "    }\n",
       "</style>\n",
       "<table border=\"1\" class=\"dataframe\">\n",
       "  <thead>\n",
       "    <tr style=\"text-align: right;\">\n",
       "      <th></th>\n",
       "      <th>count</th>\n",
       "      <th>mean</th>\n",
       "      <th>std</th>\n",
       "      <th>min</th>\n",
       "      <th>25%</th>\n",
       "      <th>50%</th>\n",
       "      <th>75%</th>\n",
       "      <th>max</th>\n",
       "    </tr>\n",
       "    <tr>\n",
       "      <th>vol</th>\n",
       "      <th></th>\n",
       "      <th></th>\n",
       "      <th></th>\n",
       "      <th></th>\n",
       "      <th></th>\n",
       "      <th></th>\n",
       "      <th></th>\n",
       "      <th></th>\n",
       "    </tr>\n",
       "  </thead>\n",
       "  <tbody>\n",
       "    <tr>\n",
       "      <th>1.479387e+10</th>\n",
       "      <td>168897.0</td>\n",
       "      <td>1.754502e+14</td>\n",
       "      <td>1.022009e+14</td>\n",
       "      <td>1.000004e+14</td>\n",
       "      <td>1.162374e+14</td>\n",
       "      <td>1.417421e+14</td>\n",
       "      <td>1.942476e+14</td>\n",
       "      <td>2.231156e+15</td>\n",
       "    </tr>\n",
       "    <tr>\n",
       "      <th>4.783826e+10</th>\n",
       "      <td>142007.0</td>\n",
       "      <td>1.520161e+14</td>\n",
       "      <td>6.478489e+13</td>\n",
       "      <td>1.000036e+14</td>\n",
       "      <td>1.120814e+14</td>\n",
       "      <td>1.307558e+14</td>\n",
       "      <td>1.668826e+14</td>\n",
       "      <td>1.536768e+15</td>\n",
       "    </tr>\n",
       "    <tr>\n",
       "      <th>9.112247e+10</th>\n",
       "      <td>51733.0</td>\n",
       "      <td>1.370772e+14</td>\n",
       "      <td>4.304113e+13</td>\n",
       "      <td>1.000017e+14</td>\n",
       "      <td>1.093389e+14</td>\n",
       "      <td>1.230673e+14</td>\n",
       "      <td>1.487753e+14</td>\n",
       "      <td>9.605430e+14</td>\n",
       "    </tr>\n",
       "  </tbody>\n",
       "</table>\n",
       "</div>"
      ],
      "text/plain": [
       "                 count          mean           std           min  \\\n",
       "vol                                                                \n",
       "1.479387e+10  168897.0  1.754502e+14  1.022009e+14  1.000004e+14   \n",
       "4.783826e+10  142007.0  1.520161e+14  6.478489e+13  1.000036e+14   \n",
       "9.112247e+10   51733.0  1.370772e+14  4.304113e+13  1.000017e+14   \n",
       "\n",
       "                       25%           50%           75%           max  \n",
       "vol                                                                   \n",
       "1.479387e+10  1.162374e+14  1.417421e+14  1.942476e+14  2.231156e+15  \n",
       "4.783826e+10  1.120814e+14  1.307558e+14  1.668826e+14  1.536768e+15  \n",
       "9.112247e+10  1.093389e+14  1.230673e+14  1.487753e+14  9.605430e+14  "
      ]
     },
     "execution_count": 20,
     "metadata": {},
     "output_type": "execute_result"
    }
   ],
   "source": [
    "euclid_ammassi.groupby('vol')['mass'].describe()"
   ]
  },
  {
   "cell_type": "code",
   "execution_count": 25,
   "id": "d835fe65-fb18-4199-a066-e9e4989dbd3c",
   "metadata": {},
   "outputs": [
    {
     "name": "stderr",
     "output_type": "stream",
     "text": [
      "Matplotlib is building the font cache; this may take a moment.\n"
     ]
    },
    {
     "data": {
      "image/png": "[encoded data removed]",
      "text/plain": [
       "<Figure size 1200x900 with 4 Axes>"
      ]
     },
     "metadata": {},
     "output_type": "display_data"
    }
   ],
   "source": [
    "import matplotlib.pyplot as plt\n",
    "axes = euclid_ammassi.hist(['mass'], 'z', xrot = 0, figsize = (12, 9), bins = 'sturges')\n",
    "for ax in axes.flatten():\n",
    "    ax.set(xlabel = '$Solar\\ masses$', ylabel = '$N$')\n",
    "    ax.loglog()\n",
    "plt.show()"
   ]
  },
  {
   "cell_type": "code",
   "execution_count": 27,
   "id": "ed228f47-66d4-4441-9dbc-ad396ea04219",
   "metadata": {},
   "outputs": [
    {
     "data": {
      "image/png": "[encoded data removed]",
      "text/plain": [
       "<Figure size 1200x900 with 4 Axes>"
      ]
     },
     "metadata": {},
     "output_type": "display_data"
    }
   ],
   "source": [
    "import matplotlib.pyplot as plt\n",
    "axes = euclid_ammassi.hist(['mass'], 'z', xrot = 0, sharex = True, sharey = True, figsize = (12, 9), bins = 'sturges')\n",
    "for ax in axes.flatten():\n",
    "    ax.set(xlabel = '$Solar\\ masses$', ylabel = '$N$')\n",
    "    ax.loglog()\n",
    "plt.show()"
   ]
  },
  {
   "cell_type": "markdown",
   "id": "9bce67bf-505b-4441-8c3d-6cbbf5180135",
   "metadata": {},
   "source": [
    "## Parte due: analisi della Halo Mass Function (HMF)"
   ]
  },
  {
   "cell_type": "code",
   "execution_count": 79,
   "id": "385bc4f0-d927-4bce-9d98-2b032b03573c",
   "metadata": {},
   "outputs": [
    {
     "name": "stdout",
     "output_type": "stream",
     "text": [
      "100000407043369.28\n"
     ]
    }
   ],
   "source": [
    "z = [euclid_ammassi['z'].iloc[0], \n",
    "     euclid_ammassi['z'].iloc[168897],\n",
    "     euclid_ammassi['z'].iloc[310904]]\n",
    "# print(z)\n",
    "\n",
    "M = [0, 0, 0]\n",
    "M[0] = np.sort(euclid_ammassi['mass'].iloc[:168897])\n",
    "M[1] = np.sort(euclid_ammassi['mass'].iloc[168897:310904])\n",
    "M[2] = np.sort(euclid_ammassi['mass'].iloc[168897:310904])\n",
    "print(M[0].min())"
   ]
  },
  {
   "cell_type": "markdown",
   "id": "0a5c0bd0-3930-4bf2-b9cf-d749abbb87ca",
   "metadata": {},
   "source": [
    "## Parte tre: inferenza bayesiana sui parametri cosmologici"
   ]
  },
  {
   "cell_type": "code",
   "execution_count": 63,
   "id": "94d99744-ae7a-49a5-8839-7db019ea52e8",
   "metadata": {},
   "outputs": [],
   "source": [
    "from colossus.cosmology import cosmology\n",
    "from colossus.lss import mass_function\n",
    "import numpy as np\n",
    "\n",
    "def log_prior(theta):\n",
    "    sigma8, Om0 = theta\n",
    "    if 0.1 <= sigma8 <= 1.1 and 0.1 <= Om0 <= 1.1:\n",
    "        return 0.0\n",
    "    return -np.inf\n",
    "\n",
    "def log_likelihood(theta, M, z):\n",
    "    sigma8, Om0 = theta\n",
    "    params = {'flat': True, 'H0': 67.7, 'Om0': Om0, \n",
    "              'Ob0': 0.049, 'sigma8': sigma8, 'ns': 0.95}\n",
    "    cosmology.addCosmology('myCosmo', params)\n",
    "    cosmo = cosmology.setCosmology('myCosmo')\n",
    "    mfunc = mass_function.massFunction(M, z, mdef = 'vir',\n",
    "                                      model = 'despali16', q_out = 'dndlnM')\n",
    "    return np.nansum(mfunc)\n",
    "\n",
    "def log_prob(theta, M, z):\n",
    "    lp = log_prior(theta)\n",
    "    if not np.isfinite(lp):\n",
    "        return -np.inf\n",
    "    return lp + log_likelihood(theta, M, z)"
   ]
  },
  {
   "cell_type": "code",
   "execution_count": 99,
   "id": "0e2f1dc9-dfdd-4c0e-9d3f-343e1561761d",
   "metadata": {},
   "outputs": [
    {
     "name": "stdout",
     "output_type": "stream",
     "text": [
      "1739562937009779.5 0.506\n"
     ]
    }
   ],
   "source": [
    "ndim = 2\n",
    "\n",
    "Mi = np.random.uniform(M[0].min(), M[0].max())\n",
    "zi = z[0]\n",
    "print(Mi, zi)\n",
    "\n",
    "# posizione iniziale e numero di walker\n",
    "p0 = np.array([0.81, 0.31])\n",
    "nwalkers = 20"
   ]
  },
  {
   "cell_type": "code",
   "execution_count": 101,
   "id": "71a85414-bfb3-473e-aeba-21e5900af271",
   "metadata": {},
   "outputs": [],
   "source": [
    "import emcee\n",
    "sampler = emcee.EnsembleSampler(nwalkers, ndim, log_prob, \n",
    "                                args = [Mi, zi])"
   ]
  },
  {
   "cell_type": "code",
   "execution_count": null,
   "id": "10991a06-9fd6-447c-b93f-16935ce50982",
   "metadata": {},
   "outputs": [],
   "source": []
  }
 ],
 "metadata": {
  "kernelspec": {
   "display_name": ".conda-Colossus",
   "language": "python",
   "name": "conda-env-.conda-Colossus-py"
  },
  "language_info": {
   "codemirror_mode": {
    "name": "ipython",
    "version": 3
   },
   "file_extension": ".py",
   "mimetype": "text/x-python",
   "name": "python",
   "nbconvert_exporter": "python",
   "pygments_lexer": "ipython3",
   "version": "3.9.18"
  }
 },
 "nbformat": 4,
 "nbformat_minor": 5
}
